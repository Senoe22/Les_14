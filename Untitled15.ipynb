{
 "cells": [
  {
   "cell_type": "code",
   "execution_count": 1,
   "metadata": {},
   "outputs": [],
   "source": [
    "import numpy as np\n",
    "import matplotlib.pyplot as plt"
   ]
  },
  {
   "cell_type": "code",
   "execution_count": 83,
   "metadata": {},
   "outputs": [
    {
     "name": "stdout",
     "output_type": "stream",
     "text": [
      "Введите количество игроков - 100000\n",
      "Средний выигрыш/убыток для 100000 игроков:   -0.37035 руб.\n"
     ]
    }
   ],
   "source": [
    "# Основное задание\n",
    "person = int(input('Введите количество игроков - '))\n",
    "\n",
    "# Генерируем случайные числа с равномерным распределением для заданного количества игроков\n",
    "number = np.random.randint(0, 999, person)\n",
    "\n",
    "# Функция для подсчета выигрыша\n",
    "def oneshot (num):\n",
    "    if num == 777:\n",
    "        money = 200\n",
    "    elif num == 999:\n",
    "        money = 100\n",
    "    elif num == 555:\n",
    "        money = 50  \n",
    "    elif num == 333:\n",
    "        money = 15  \n",
    "    elif num == 111:\n",
    "        money = 10  \n",
    "    elif num %100 == 77 and num >= 100:\n",
    "        money = 5 \n",
    "    elif num %10 == 7 and num >= 100:\n",
    "        money = 3 \n",
    "    elif num %100 == 0 and num >= 100:\n",
    "        money = 2 \n",
    "    elif num %10 == 0 and num >= 100:\n",
    "        money = 1 \n",
    "    else:\n",
    "        money = 0\n",
    "    return money\n",
    "\n",
    "# Считаем средний результат (выигрыш - затраты 1 руб.) для заданного количества игроков\n",
    "result = []\n",
    "for i in number:\n",
    "    res = (oneshot(i) - 1) \n",
    "    result.append(res)\n",
    "print('Средний выигрыш/убыток для', person, 'игроков:  ', np.mean(result), 'руб.')"
   ]
  }
 ],
 "metadata": {
  "kernelspec": {
   "display_name": "Python 3",
   "language": "python",
   "name": "python3"
  },
  "language_info": {
   "codemirror_mode": {
    "name": "ipython",
    "version": 3
   },
   "file_extension": ".py",
   "mimetype": "text/x-python",
   "name": "python",
   "nbconvert_exporter": "python",
   "pygments_lexer": "ipython3",
   "version": "3.8.3"
  }
 },
 "nbformat": 4,
 "nbformat_minor": 4
}
