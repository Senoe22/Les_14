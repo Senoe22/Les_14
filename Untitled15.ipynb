{
 "cells": [
  {
   "cell_type": "code",
   "execution_count": 1,
   "metadata": {},
   "outputs": [],
   "source": [
    "import numpy as np\n",
    "import matplotlib.pyplot as plt"
   ]
  },
  {
   "cell_type": "code",
   "execution_count": 21,
   "metadata": {
    "scrolled": false
   },
   "outputs": [
    {
     "name": "stdout",
     "output_type": "stream",
     "text": [
      "Введите количество игр на одного игрока: 100\n",
      "Введите количество игроков: 500\n",
      "Средний выигрыш/убыток на 100 потраченных рублей:   -19.348 руб.\n"
     ]
    }
   ],
   "source": [
    "# Основное задание\n",
    "iter_ = int(input('Введите количество игр на одного игрока: '))\n",
    "person = int(input('Введите количество игроков: '))\n",
    "\n",
    "# Функция для подсчета выигрыша\n",
    "def oneshot (num):\n",
    "    if num == 777:\n",
    "        money = 200\n",
    "    elif num == 999:\n",
    "        money = 100\n",
    "    elif num == 555:\n",
    "        money = 50  \n",
    "    elif num == 333:\n",
    "        money = 15  \n",
    "    elif num == 111:\n",
    "        money = 10  \n",
    "    elif num %100 == 77:\n",
    "        money = 5 \n",
    "    elif num %10 == 7:\n",
    "        money = 3 \n",
    "    elif num %100 == 0:\n",
    "        money = 2 \n",
    "    elif num %10 == 0:\n",
    "        money = 1 \n",
    "    else:\n",
    "        money = 0\n",
    "    return money\n",
    "\n",
    "# Считаем средний результат (выигрыш - затраты 1 руб.) для заданного количества игр и игроков\n",
    "result_person = []\n",
    "k=1\n",
    "while k <= person:\n",
    "    # Для каждого игрока генерируем случайные числа с равномерным распределением\n",
    "    number = np.random.randint(0, 1000, iter_)\n",
    "    result = []    #Выигрыш-затраты\n",
    "    for i in number:\n",
    "        res = (oneshot(i) - 1) \n",
    "        result.append(res)\n",
    "    result_person.append(np.sum(result))\n",
    "    k+=1\n",
    "print('Средний выигрыш/убыток на', iter_, 'потраченных рублей:  ', np.mean(result_person),'руб.' )"
   ]
  }
 ],
 "metadata": {
  "kernelspec": {
   "display_name": "Python 3",
   "language": "python",
   "name": "python3"
  },
  "language_info": {
   "codemirror_mode": {
    "name": "ipython",
    "version": 3
   },
   "file_extension": ".py",
   "mimetype": "text/x-python",
   "name": "python",
   "nbconvert_exporter": "python",
   "pygments_lexer": "ipython3",
   "version": "3.8.3"
  }
 },
 "nbformat": 4,
 "nbformat_minor": 4
}
